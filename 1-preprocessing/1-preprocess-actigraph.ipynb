{
 "cells": [
  {
   "cell_type": "markdown",
   "metadata": {},
   "source": [
    "<script>\n",
    "        var code_show=true; //true -> hide code at first\n",
    "    \n",
    "        function code_toggle() {\n",
    "            $('div.prompt').hide(); // always hide prompt\n",
    "            $('div[style*=\\\"border-style: dashed\"\\]').hide(); // hide extra comments, usually log from treasuredata\n",
    "            $('div.output_stderr').parent().hide();\n",
    "    \n",
    "            if (code_show){\n",
    "                $('div.input').hide();\n",
    "            } else {\n",
    "                $('div.input').show();\n",
    "            }\n",
    "            code_show = !code_show\n",
    "        }\n",
    "        $( document ).ready(code_toggle);\n",
    "    </script>"
   ]
  },
  {
   "cell_type": "code",
   "execution_count": 1,
   "metadata": {},
   "outputs": [],
   "source": [
    "import pandas as pd\n",
    "import numpy as np\n",
    "import seaborn as sns\n",
    "import matplotlib.pyplot as plt\n",
    "import matplotlib.dates as mdates\n",
    "\n",
    "sns.set_context('talk')\n",
    "sns.set_style('white')\n",
    "\n",
    "random_state = np.random.RandomState(seed = 144)"
   ]
  },
  {
   "cell_type": "code",
   "execution_count": 2,
   "metadata": {},
   "outputs": [],
   "source": [
    "df_actigraph = pd.read_csv('../0-dataset/1-preprocessed/actigraph_combined.csv')\n",
    "df_actigraph.columns = df_actigraph.columns.str.lower().str.strip().str.replace(' ','_')\n",
    "\n",
    "df_patient_metadata = pd.read_csv('../0-dataset/1-preprocessed/patient_metadata_trimmed.csv')\n",
    "df_patient_metadata['visit_info'] = np.where(\n",
    "    (df_patient_metadata['visit'] == 1),\n",
    "    'baseline',\n",
    "    'follow-up'\n",
    ")"
   ]
  },
  {
   "cell_type": "code",
   "execution_count": 3,
   "metadata": {},
   "outputs": [],
   "source": [
    "conditions = [\n",
    "    (df_patient_metadata['gender'] == 1),\n",
    "    (df_patient_metadata['gender'] == 0)\n",
    "]\n",
    "\n",
    "choices = [\n",
    "    'female',\n",
    "    'male'\n",
    "]\n",
    "\n",
    "df_patient_metadata['gender_string'] = np.select(\n",
    "    conditions,\n",
    "    choices,\n",
    "    default = None\n",
    ")"
   ]
  },
  {
   "cell_type": "code",
   "execution_count": 4,
   "metadata": {},
   "outputs": [],
   "source": [
    "import datetime\n",
    "\n",
    "def standardize_date_format(series):\n",
    "    \"\"\"\n",
    "    Standardize date format to YYYY-MM-DD,\n",
    "    since Actigraph data also contains DD/MM/YYYY and it can not be read correctly by pandas.to_datetime\n",
    "    \"\"\"\n",
    "    input1, input2, input3 = series.split('/')\n",
    "    if len(input1) == 4:\n",
    "        return series.replace('/','-')\n",
    "    else:\n",
    "        return input3 + '-' + input2 + '-' + input1"
   ]
  },
  {
   "cell_type": "code",
   "execution_count": 5,
   "metadata": {},
   "outputs": [],
   "source": [
    "df_actigraph['date'] = df_actigraph['date'].apply(standardize_date_format)"
   ]
  },
  {
   "cell_type": "code",
   "execution_count": 6,
   "metadata": {},
   "outputs": [],
   "source": [
    "## combine with main metadata of the patient\n",
    "meta = df_patient_metadata.loc[\n",
    "    (df_patient_metadata['visit'].notnull()),\n",
    "    [\n",
    "        'patient_id','visit_info','include_activpal_data','gender_string','age','height','weight','bmi',\n",
    "        'sf_pf', 'sf_role', 'sf_pain','sf_social', 'sf_mental', 'sf_emot', 'sf_vitality', \n",
    "        'sf_gen_health','sf36_total', 'haq'\n",
    "    ]\n",
    "].copy().rename(\n",
    "    columns = {\n",
    "        'gender_string': 'gender'\n",
    "    }\n",
    ")\n",
    "\n",
    "df_actigraph = df_actigraph.merge(\n",
    "    meta,\n",
    "    how = 'left',\n",
    "    left_on = ['patient_id','directory_name'],\n",
    "    right_on = ['patient_id','visit_info']\n",
    ")"
   ]
  },
  {
   "cell_type": "code",
   "execution_count": 7,
   "metadata": {},
   "outputs": [],
   "source": [
    "df_actigraph['datetime'] = df_actigraph['date'] + ' ' + df_actigraph['time']\n",
    "for col in ['date','datetime']:\n",
    "    df_actigraph[col] = pd.to_datetime(df_actigraph[col])\n",
    "    \n",
    "df_actigraph['datetime_hour'] = df_actigraph['datetime'].dt.floor('h')\n",
    "df_actigraph['hour'] = df_actigraph['datetime'].dt.hour\n",
    "\n",
    "df_actigraph.sort_values(by = ['patient_id','datetime'], inplace = True)"
   ]
  },
  {
   "cell_type": "code",
   "execution_count": 8,
   "metadata": {},
   "outputs": [],
   "source": [
    "df_actigraph['day_of_week'] = df_actigraph['date'].dt.dayofweek\n",
    "\n",
    "conditions = [\n",
    "    (df_actigraph['day_of_week'] == 0),\n",
    "    (df_actigraph['day_of_week'] == 1),\n",
    "    (df_actigraph['day_of_week'] == 2),\n",
    "    (df_actigraph['day_of_week'] == 3),\n",
    "    (df_actigraph['day_of_week'] == 4),\n",
    "    (df_actigraph['day_of_week'] == 5),\n",
    "    (df_actigraph['day_of_week'] == 6)\n",
    "]\n",
    "\n",
    "choices = [\n",
    "    'Monday',\n",
    "    'Tuesday',\n",
    "    'Wednesday',\n",
    "    'Thursday',\n",
    "    'Friday',\n",
    "    'Saturday',\n",
    "    'Sunday'\n",
    "]\n",
    "\n",
    "df_actigraph['day_of_week_string'] = np.select(\n",
    "    conditions,\n",
    "    choices,\n",
    "    default = None\n",
    ")"
   ]
  },
  {
   "cell_type": "code",
   "execution_count": 9,
   "metadata": {},
   "outputs": [],
   "source": [
    "## produce the merged data as output\n",
    "# df_actigraph.to_csv('../0-dataset/1-preprocessed/actigraph_combined_with_metadata.csv', index = False)"
   ]
  },
  {
   "cell_type": "markdown",
   "metadata": {},
   "source": [
    "# Objectives\n",
    "\n",
    "1. Identify activity type\n",
    "2. Identify non-wear period\n",
    "\n",
    "Both are identified based on vertical axis movement (axis1)."
   ]
  },
  {
   "cell_type": "markdown",
   "metadata": {},
   "source": [
    "# 1. Identify activity types\n",
    "\n",
    "> The cutpoints are as follows: \n",
    "- sedentary behaviour = <100cpm \n",
    "- light intensity: 100-1951 cpm\n",
    "- moderate intensity: 1952-5724 cpm\n",
    "- vigorous activity: >5724cpm\n",
    "\n",
    "**cut-points are based on axis1 (up and down)**"
   ]
  },
  {
   "cell_type": "code",
   "execution_count": 54,
   "metadata": {},
   "outputs": [],
   "source": [
    "def determine_behavior_by_rule(df, column='axis1'):\n",
    "    conditions = [\n",
    "        (df[column] < 100),\n",
    "        (df[column] >= 100) & (df[column] < 1952),\n",
    "        (df[column] >= 1952) & (df[column] < 5725),\n",
    "        (df[column] >= 5725)\n",
    "    ]\n",
    "\n",
    "    choices = [\n",
    "        'sedentary_behavior',\n",
    "        'light_intensity',\n",
    "        'moderate',\n",
    "        'vigorous'\n",
    "    ]\n",
    "\n",
    "    result = np.select(\n",
    "        conditions,\n",
    "        choices\n",
    "    )\n",
    "    \n",
    "    return result"
   ]
  },
  {
   "cell_type": "code",
   "execution_count": 55,
   "metadata": {},
   "outputs": [],
   "source": [
    "df_actigraph['behavior_by_rule'] = determine_behavior_by_rule(df_actigraph, column='axis1')"
   ]
  },
  {
   "cell_type": "code",
   "execution_count": 57,
   "metadata": {},
   "outputs": [
    {
     "data": {
      "image/png": "[encoded data removed]",
      "text/plain": [
       "<Figure size 864x288 with 2 Axes>"
      ]
     },
     "metadata": {},
     "output_type": "display_data"
    }
   ],
   "source": [
    "f, ax = plt.subplots(figsize = (12,4), ncols = 2)\n",
    "plt.subplots_adjust(wspace = .85)\n",
    "i = 0\n",
    "\n",
    "for col in ['baseline','follow-up']:\n",
    "    mask = (df_actigraph['directory_name'] == col)    \n",
    "    df_actigraph.loc[\n",
    "        mask,\n",
    "        'behavior_by_rule'\n",
    "    ].value_counts(True).plot.barh(ax=ax[i]);\n",
    "    \n",
    "    x_values = ax[i].get_xticks()\n",
    "    ax[i].set_xticklabels(['{:,.0%}'.format(x) for x in x_values])\n",
    "    ax[i].set_title(col);\n",
    "    i += 1\n",
    "    \n",
    "sns.despine()\n",
    "plt.show();"
   ]
  },
  {
   "cell_type": "markdown",
   "metadata": {},
   "source": [
    "# 2. Identify non-wear time\n",
    "\n",
    "**How to identify non-wear time?**\n",
    "\n",
    "> - based on rolling average per 90 minutes, find 0 mean with small variance?\n",
    "> - identifying consecutive steps?\n",
    "\n",
    "- Non-wear time (i.e device removed for some reason) is defined as **1 min intervals with consecutive zeroes for a minimum of 90 min** (with an allowance of up to 2 min of counts between 0 and 50 (or allowance of 2-min interval of nonzero counts with the upstream or downstream 30-min consecutive zero-count window for detection of artifactual movements.).\n",
    "\n",
    "\n",
    "> If you have something like this: <br>\n",
    "> 0 0 0 0 0 0 0 0 (for 50 min) 10 15 10 20 (for 1.5 min) 0 0 0 0 0 0 0 0 0 0 0 (for 40 min) – **this entire 90 min period is considered as sedentary** because there are consecutive zeros and the break is less than 100 cpm and lasts less then 2 minutes. However **you would have to look 30 min before the break (upstream) and 30 min after the break (downstream) to make sure that that section also obeys the rules**. It’s like a rolling average (but not an average)."
   ]
  },
  {
   "cell_type": "code",
   "execution_count": 58,
   "metadata": {},
   "outputs": [],
   "source": [
    "def check_consecutive_zeros(series):\n",
    "    \"\"\"\n",
    "    Reference: https://stackoverflow.com/questions/45281597/counting-number-of-consecutive-zeros-in-a-dataframe\n",
    "    Calculate maximum number of consecutive zeros within a series.\n",
    "    This function will be executed in a rolling window, e.g. 90 or 120 minutes.\n",
    "    To do: do we need to return the index where the max consecutive zeros stop?\n",
    "    \"\"\"\n",
    "    series_list = np.array(list(series))\n",
    "    zero_index = np.argwhere(series_list == 0).ravel()\n",
    "    if zero_index.size == 0:\n",
    "        return False\n",
    "    \n",
    "    zero_spread_range_index = np.arange(zero_index[0], zero_index[-1] + 1)\n",
    "    cutoff_to_nonzero = np.setdiff1d(zero_spread_range_index, zero_index)\n",
    "    if cutoff_to_nonzero.size == 0:\n",
    "        return False\n",
    "    \n",
    "    position, flips = zero_spread_range_index[0], []\n",
    "    for element in cutoff_to_nonzero:\n",
    "        flips.append(element - position)\n",
    "        position = element + 1\n",
    "    \n",
    "    flips.append(zero_spread_range_index[-1] + 1 - position)\n",
    "    consecutive_zeros = max(flips) if (max(flips)) != 1 else 0\n",
    "    return consecutive_zeros"
   ]
  },
  {
   "cell_type": "code",
   "execution_count": 59,
   "metadata": {},
   "outputs": [],
   "source": [
    "df_temp_consecutive_step = pd.DataFrame()\n",
    "window_minute = 90\n",
    "metric = 'axis1'\n",
    "\n",
    "for ix, group in df_actigraph.groupby(['patient_id','directory_name']):\n",
    "    consecutive_zeros = group.rolling(window_minute)[metric].apply(check_consecutive_zeros)\n",
    "    min_value = group.rolling(window_minute)[metric].min()\n",
    "    max_value = group.rolling(window_minute)[metric].max()\n",
    "    mean = group.rolling(window_minute)[metric].mean()\n",
    "    stdev = group.rolling(window_minute)[metric].std()\n",
    "    group_result = pd.DataFrame(\n",
    "        {\n",
    "            'patient_id': ix[0],\n",
    "            'directory_name': ix[1],\n",
    "            'index': consecutive_zeros.index,\n",
    "            'consecutive_zeros': consecutive_zeros.values,\n",
    "            'min_value': min_value.values,\n",
    "            'max_value': max_value.values,\n",
    "            'mean': mean.values,\n",
    "            'stdev': stdev.values\n",
    "        }\n",
    "    )\n",
    "    df_temp_consecutive_step = pd.concat([df_temp_consecutive_step, group_result])"
   ]
  },
  {
   "cell_type": "code",
   "execution_count": 60,
   "metadata": {},
   "outputs": [
    {
     "data": {
      "text/html": [
       "<div>\n",
       "<style scoped>\n",
       "    .dataframe tbody tr th:only-of-type {\n",
       "        vertical-align: middle;\n",
       "    }\n",
       "\n",
       "    .dataframe tbody tr th {\n",
       "        vertical-align: top;\n",
       "    }\n",
       "\n",
       "    .dataframe thead th {\n",
       "        text-align: right;\n",
       "    }\n",
       "</style>\n",
       "<table border=\"1\" class=\"dataframe\">\n",
       "  <thead>\n",
       "    <tr style=\"text-align: right;\">\n",
       "      <th></th>\n",
       "      <th>patient_id</th>\n",
       "      <th>directory_name</th>\n",
       "      <th>index</th>\n",
       "      <th>consecutive_zeros</th>\n",
       "      <th>min_value</th>\n",
       "      <th>max_value</th>\n",
       "      <th>mean</th>\n",
       "      <th>stdev</th>\n",
       "    </tr>\n",
       "  </thead>\n",
       "  <tbody>\n",
       "    <tr>\n",
       "      <th>9945</th>\n",
       "      <td>2</td>\n",
       "      <td>baseline</td>\n",
       "      <td>20025</td>\n",
       "      <td>88.0</td>\n",
       "      <td>0.0</td>\n",
       "      <td>156.0</td>\n",
       "      <td>1.733333</td>\n",
       "      <td>16.443844</td>\n",
       "    </tr>\n",
       "    <tr>\n",
       "      <th>9738</th>\n",
       "      <td>2</td>\n",
       "      <td>follow-up</td>\n",
       "      <td>29778</td>\n",
       "      <td>88.0</td>\n",
       "      <td>0.0</td>\n",
       "      <td>579.0</td>\n",
       "      <td>6.433333</td>\n",
       "      <td>61.031959</td>\n",
       "    </tr>\n",
       "    <tr>\n",
       "      <th>9740</th>\n",
       "      <td>2</td>\n",
       "      <td>follow-up</td>\n",
       "      <td>29780</td>\n",
       "      <td>88.0</td>\n",
       "      <td>0.0</td>\n",
       "      <td>2185.0</td>\n",
       "      <td>24.277778</td>\n",
       "      <td>230.319223</td>\n",
       "    </tr>\n",
       "  </tbody>\n",
       "</table>\n",
       "</div>"
      ],
      "text/plain": [
       "      patient_id directory_name  index  consecutive_zeros  min_value  \\\n",
       "9945           2       baseline  20025               88.0        0.0   \n",
       "9738           2      follow-up  29778               88.0        0.0   \n",
       "9740           2      follow-up  29780               88.0        0.0   \n",
       "\n",
       "      max_value       mean       stdev  \n",
       "9945      156.0   1.733333   16.443844  \n",
       "9738      579.0   6.433333   61.031959  \n",
       "9740     2185.0  24.277778  230.319223  "
      ]
     },
     "execution_count": 60,
     "metadata": {},
     "output_type": "execute_result"
    }
   ],
   "source": [
    "df_temp_consecutive_step[\n",
    "    (df_temp_consecutive_step['consecutive_zeros'] >= 88) &\n",
    "    (df_temp_consecutive_step['max_value'] > 100)\n",
    "].head()"
   ]
  },
  {
   "cell_type": "code",
   "execution_count": 63,
   "metadata": {},
   "outputs": [
    {
     "data": {
      "text/plain": [
       "<matplotlib.axes._subplots.AxesSubplot at 0x7f524e605d50>"
      ]
     },
     "execution_count": 63,
     "metadata": {},
     "output_type": "execute_result"
    },
    {
     "data": {
      "image/png": "[encoded data removed]",
      "text/plain": [
       "<Figure size 432x288 with 1 Axes>"
      ]
     },
     "metadata": {},
     "output_type": "display_data"
    }
   ],
   "source": [
    "## check\n",
    "# sns.distplot(df_temp_consecutive_step['consecutive_zeros'])\n",
    "# df_temp_consecutive_step['consecutive_zeros'].describe()"
   ]
  },
  {
   "cell_type": "code",
   "execution_count": 64,
   "metadata": {},
   "outputs": [],
   "source": [
    "df_actigraph = df_actigraph.merge(\n",
    "    df_temp_consecutive_step[['index','consecutive_zeros','min_value','max_value','mean','stdev']],\n",
    "    how = 'left',\n",
    "    left_index = True,\n",
    "    right_on = 'index'\n",
    ")"
   ]
  },
  {
   "cell_type": "code",
   "execution_count": 65,
   "metadata": {},
   "outputs": [
    {
     "data": {
      "image/png": "[encoded data removed]",
      "text/plain": [
       "<Figure size 432x288 with 1 Axes>"
      ]
     },
     "metadata": {},
     "output_type": "display_data"
    }
   ],
   "source": [
    "sns.distplot(\n",
    "    df_actigraph['consecutive_zeros']\n",
    ")\n",
    "sns.despine();"
   ]
  },
  {
   "cell_type": "markdown",
   "metadata": {},
   "source": [
    "Here, we assume if there are >= 88 consecutive zeros AND max value is greater than 100, we identify the observations as non-wear time.\n",
    "\n",
    "**Note 2020-08-27: to be thought further: if max value >= 100, it should be artificial movement? non-wear tolerates < 100 cpm interruptions?**"
   ]
  },
  {
   "cell_type": "code",
   "execution_count": 66,
   "metadata": {},
   "outputs": [],
   "source": [
    "conditions = [\n",
    "    (df_actigraph['consecutive_zeros'] >= 88) & (df_actigraph['max_value'] >= 100)\n",
    "]\n",
    "\n",
    "choices = [\n",
    "    'non-wear'\n",
    "]\n",
    "\n",
    "df_actigraph['device_usage_flag'] = np.select(\n",
    "    conditions,\n",
    "    choices,\n",
    "    default = 'wear'\n",
    ")"
   ]
  },
  {
   "cell_type": "code",
   "execution_count": 67,
   "metadata": {},
   "outputs": [],
   "source": [
    "## reference: https://stackoverflow.com/a/55790765\n",
    "window_minute = 30\n",
    "\n",
    "df_actigraph['next_window_device_usage_flag'] = pd.Series(\n",
    "    df_actigraph['device_usage_flag'].str.cat(\n",
    "        [\n",
    "            df_actigraph.groupby(\n",
    "                ['patient_id','directory_name']\n",
    "            ).shift(-i)['device_usage_flag'].fillna('NA') for i in range(1, window_minute)\n",
    "        ],\n",
    "        sep = ', '\n",
    "    ),\n",
    ")"
   ]
  },
  {
   "cell_type": "code",
   "execution_count": 68,
   "metadata": {
    "scrolled": true
   },
   "outputs": [],
   "source": [
    "## reference: https://stackoverflow.com/a/55790765\n",
    "window_minute = 30\n",
    "\n",
    "df_actigraph['previous_window_device_usage_flag'] = pd.Series(\n",
    "    df_actigraph['device_usage_flag'].str.cat(\n",
    "        [\n",
    "            df_actigraph.groupby(\n",
    "                ['patient_id','directory_name']\n",
    "            ).shift(i)['device_usage_flag'].fillna('NA') for i in range(1, window_minute)\n",
    "        ],\n",
    "        sep = ', '\n",
    "    ),\n",
    ")"
   ]
  },
  {
   "cell_type": "code",
   "execution_count": 69,
   "metadata": {},
   "outputs": [],
   "source": [
    "def determine_behavior_by_device_usage(series, \n",
    "                                       column_window_flag,\n",
    "                                       column_zero='consecutive_zeros', \n",
    "                                       window_size=90,\n",
    "                                       use_default_search_space_size=True,\n",
    "                                      default_search_space_size=30):\n",
    "    if use_default_search_space_size:\n",
    "        search_space_size = default_search_space_size\n",
    "    else:\n",
    "        if pd.isnull(series[column_zero]):\n",
    "            search_space_size = window_size\n",
    "        else:\n",
    "            search_space_size = np.int64(window_size - series[column_zero])\n",
    "    search_space = series[column_window_flag].split(', ')[0:search_space_size]\n",
    "    if 'non-wear' in search_space:\n",
    "        return True\n",
    "    else:\n",
    "        return False"
   ]
  },
  {
   "cell_type": "code",
   "execution_count": 70,
   "metadata": {
    "scrolled": true
   },
   "outputs": [],
   "source": [
    "df_actigraph['next_window_device_usage_flag_contains_nonwear'] = df_actigraph[['consecutive_zeros','next_window_device_usage_flag']].apply(\n",
    "    lambda x: determine_behavior_by_device_usage(x, column_window_flag='next_window_device_usage_flag'),\n",
    "    axis=1\n",
    ")"
   ]
  },
  {
   "cell_type": "code",
   "execution_count": 71,
   "metadata": {},
   "outputs": [],
   "source": [
    "df_actigraph['previous_window_device_usage_flag_contains_nonwear'] = df_actigraph[['consecutive_zeros','previous_window_device_usage_flag']].apply(\n",
    "    lambda x: determine_behavior_by_device_usage(x, column_window_flag='previous_window_device_usage_flag'),\n",
    "    axis=1\n",
    ")"
   ]
  },
  {
   "cell_type": "code",
   "execution_count": 72,
   "metadata": {},
   "outputs": [],
   "source": [
    "def generate_final_behavior_attribute(series,\n",
    "                                      device_usage_column,\n",
    "                                      initial_behavior_column,\n",
    "                                      next_window_nonwear_column,\n",
    "                                      previous_window_nonwear_column):\n",
    "    \"\"\"\n",
    "    Determine behavior based on the pattern of consecutive zeros and current axis1 value.\n",
    "    If any of the device_usage_column in the next 30 minute equals to non-wear,\n",
    "        or if any of the device_usage_column in the previous 30 minute equals to non-wear,\n",
    "        or if current device_usage_column is non-wear,\n",
    "        then set behavior as non_wear_time\n",
    "    Else use the initial behavior column (based on the cutoffs)\n",
    "    \"\"\"\n",
    "    if (\n",
    "        (series[next_window_nonwear_column]) |\n",
    "        (series[previous_window_nonwear_column]) | \n",
    "        (series[device_usage_column] == 'non-wear')\n",
    "    ):\n",
    "        return 'non_wear_time'\n",
    "    else:\n",
    "        return series[initial_behavior_column]"
   ]
  },
  {
   "cell_type": "code",
   "execution_count": 73,
   "metadata": {},
   "outputs": [],
   "source": [
    "df_actigraph['behavior_final'] = df_actigraph.apply(\n",
    "    lambda x: generate_final_behavior_attribute(\n",
    "        x,\n",
    "        device_usage_column='device_usage_flag',\n",
    "        initial_behavior_column='behavior_by_rule',\n",
    "        next_window_nonwear_column='next_window_device_usage_flag_contains_nonwear',\n",
    "        previous_window_nonwear_column='previous_window_device_usage_flag_contains_nonwear'\n",
    "    ),\n",
    "    axis=1\n",
    ")"
   ]
  },
  {
   "cell_type": "code",
   "execution_count": 75,
   "metadata": {},
   "outputs": [],
   "source": [
    "## checkpoint\n",
    "# df_actigraph.to_csv('../0-dataset/1-preprocessed/actigraph_combined_with_metadata_activity_type.csv', index = False)"
   ]
  },
  {
   "cell_type": "code",
   "execution_count": 76,
   "metadata": {},
   "outputs": [
    {
     "data": {
      "image/png": "[encoded data removed]",
      "text/plain": [
       "<Figure size 864x288 with 2 Axes>"
      ]
     },
     "metadata": {},
     "output_type": "display_data"
    }
   ],
   "source": [
    "f, ax = plt.subplots(figsize = (12,4), ncols = 2)\n",
    "plt.subplots_adjust(wspace = .85)\n",
    "i = 0\n",
    "\n",
    "for col in ['baseline','follow-up']:\n",
    "    mask = (df_actigraph['directory_name'] == col)    \n",
    "    df_actigraph.loc[\n",
    "        mask,\n",
    "        'behavior_final'\n",
    "    ].value_counts(True).plot.barh(ax=ax[i]);\n",
    "    \n",
    "    x_values = ax[i].get_xticks()\n",
    "    ax[i].set_xticklabels(['{:,.0%}'.format(x) for x in x_values])\n",
    "    ax[i].set_title(col);\n",
    "    i += 1\n",
    "    \n",
    "sns.despine()\n",
    "plt.show();"
   ]
  },
  {
   "cell_type": "code",
   "execution_count": 77,
   "metadata": {},
   "outputs": [],
   "source": [
    "d = df_actigraph.groupby([\n",
    "    'behavior_final',\n",
    "    'hour'\n",
    "]).agg({\n",
    "    'steps': 'count',\n",
    "    'patient_id': 'nunique'\n",
    "}).reset_index()\n",
    "\n",
    "d_agg = d.groupby('hour').agg({\n",
    "    'steps':'sum', \n",
    "    'patient_id':'max'\n",
    "}).reset_index().rename(columns = {\n",
    "    'steps':'step_record',\n",
    "    'patient_id':'total_patient'\n",
    "})\n",
    "\n",
    "d = d.merge(\n",
    "    d_agg,\n",
    "    how='left',\n",
    "    on='hour'\n",
    ")\n",
    "\n",
    "d['step_percentage'] = d['steps'] / d['step_record']\n",
    "d['patient_percentage'] = d['patient_id'] / d['total_patient']"
   ]
  },
  {
   "cell_type": "markdown",
   "metadata": {},
   "source": [
    "\"non-wear\" time are mostly observed between midnight to 1 PM. Wonder why?"
   ]
  },
  {
   "cell_type": "code",
   "execution_count": 78,
   "metadata": {},
   "outputs": [
    {
     "data": {
      "image/png": "[encoded data removed]",
      "text/plain": [
       "<Figure size 1152x576 with 2 Axes>"
      ]
     },
     "metadata": {},
     "output_type": "display_data"
    }
   ],
   "source": [
    "f, ax = plt.subplots(figsize = (16,8), ncols = 2)\n",
    "plt.subplots_adjust(wspace = 1.75)\n",
    "\n",
    "mask = (d['behavior_final'] == 'non_wear_time')\n",
    "sns.barplot(\n",
    "    data = d[mask],\n",
    "    y = 'hour',\n",
    "    x = 'step_percentage',\n",
    "    orient = 'h',\n",
    "    palette = 'viridis',\n",
    "    ax = ax[0]\n",
    ")\n",
    "ax[0].set_title('On which hour do most patients forget to wear the device?')\n",
    "ax[0].set_xlabel('percentage of observations')\n",
    "x_values = ax[0].get_xticks()\n",
    "ax[0].set_xticklabels(['{:,.2%}'.format(x) for x in x_values])\n",
    "\n",
    "sns.barplot(\n",
    "    data = d[mask],\n",
    "    y = 'hour',\n",
    "    x = 'patient_percentage',\n",
    "    orient = 'h',\n",
    "    palette = 'viridis',\n",
    "    ax = ax[1]\n",
    ")\n",
    "ax[1].set_title('How many % of patients have forgot to wear the device on certain hour?')\n",
    "ax[1].set_xlabel('percentage of patients')\n",
    "x_values = ax[1].get_xticks()\n",
    "ax[1].set_xticklabels(['{:,.0%}'.format(x) for x in x_values])\n",
    "sns.despine();"
   ]
  },
  {
   "cell_type": "markdown",
   "metadata": {},
   "source": [
    "# 3. Potential sleep time\n",
    "\n",
    "**This section might be deleted!**\n",
    "\n",
    "**Can we identify \"sleep\" based on the distribution of steps?**\n",
    "\n",
    "Assumption: \n",
    "- We only identify \"sleep\" at night (night sleep hours: between 9 PM (inclusive) and 5 AM (inclusive))\n",
    "    \n",
    "Problem:\n",
    "1. Some patients have fluctuative steps during night sleep hours, thus he/she could be identified as sleeping only for an hour, followed by normal activities, then sleep again. Hence, it is difficult to use the percentile as threshold."
   ]
  },
  {
   "cell_type": "code",
   "execution_count": 79,
   "metadata": {},
   "outputs": [],
   "source": [
    "def determine_sleep(df, hour_column = 'hour', metric = 'steps'):\n",
    "    \"\"\"\n",
    "    Determine whether a patient is sleeping.\n",
    "    Default metric: steps\n",
    "    Assumption: \n",
    "    1. We only identify \"sleep\" at night (between 10 PM and 6 AM)\n",
    "    2. If hourly step is lower than 75th percentile of metric during sleep hour, then it is considered as sleep\n",
    "    \"\"\"\n",
    "    mask_sleep_hour = (df[hour_column] >= 21) | (df[hour_column] < 6)\n",
    "    threshold = np.round(np.percentile(df[mask_sleep_hour][metric], q = 75))\n",
    "    \n",
    "    conditions = [\n",
    "        (df[metric] < threshold) & mask_sleep_hour\n",
    "    ]\n",
    "    \n",
    "    choices = [\n",
    "        'Sleep'\n",
    "    ]\n",
    "    \n",
    "    print('Threshold: {:,.0f} {}'.format(threshold, metric))\n",
    "    result = np.select(conditions, choices, default = 'Not sleep')\n",
    "    return result"
   ]
  },
  {
   "cell_type": "code",
   "execution_count": 80,
   "metadata": {},
   "outputs": [
    {
     "name": "stdout",
     "output_type": "stream",
     "text": [
      "Threshold: 43 steps\n",
      "Threshold: 62 steps\n"
     ]
    }
   ],
   "source": [
    "mask_baseline = (df_actigraph_agg_hourly['directory_name'] == 'baseline')\n",
    "\n",
    "sleep_result = determine_sleep(\n",
    "    df = df_actigraph_agg_hourly[mask_baseline]\n",
    ")\n",
    "\n",
    "df_actigraph_agg_hourly.loc[\n",
    "    mask_baseline,\n",
    "    'sleep_flag'\n",
    "] = sleep_result\n",
    "\n",
    "sleep_result = determine_sleep(\n",
    "    df = df_actigraph_agg_hourly[~mask_baseline]\n",
    ")\n",
    "\n",
    "df_actigraph_agg_hourly.loc[\n",
    "    ~mask_baseline,\n",
    "    'sleep_flag'\n",
    "] = sleep_result\n",
    "\n",
    "del sleep_result"
   ]
  },
  {
   "cell_type": "code",
   "execution_count": 81,
   "metadata": {},
   "outputs": [
    {
     "data": {
      "image/png": "[encoded data removed]",
      "text/plain": [
       "<Figure size 864x288 with 2 Axes>"
      ]
     },
     "metadata": {},
     "output_type": "display_data"
    }
   ],
   "source": [
    "f, ax = plt.subplots(figsize = (12,4), ncols = 2)\n",
    "plt.subplots_adjust(wspace = .5)\n",
    "\n",
    "df_actigraph_agg_hourly[mask_baseline]['sleep_flag'].value_counts(True).plot.barh(\n",
    "    ax=ax[0]\n",
    ");\n",
    "ax[0].set_title('Baseline')\n",
    "x_values = ax[0].get_xticks()\n",
    "ax[0].set_xticklabels(['{:,.0%}'.format(x) for x in x_values])\n",
    "\n",
    "df_actigraph_agg_hourly[~mask_baseline]['sleep_flag'].value_counts(True).plot.barh(\n",
    "    ax=ax[1]\n",
    ");\n",
    "ax[1].set_title('Follow up')\n",
    "x_values = ax[1].get_xticks()\n",
    "ax[1].set_xticklabels(['{:,.0%}'.format(x) for x in x_values])\n",
    "\n",
    "sns.despine();"
   ]
  }
 ],
 "metadata": {
  "kernelspec": {
   "display_name": "Python 3",
   "language": "python",
   "name": "python3"
  },
  "language_info": {
   "codemirror_mode": {
    "name": "ipython",
    "version": 3
   },
   "file_extension": ".py",
   "mimetype": "text/x-python",
   "name": "python",
   "nbconvert_exporter": "python",
   "pygments_lexer": "ipython3",
   "version": "3.7.6"
  }
 },
 "nbformat": 4,
 "nbformat_minor": 4
}
