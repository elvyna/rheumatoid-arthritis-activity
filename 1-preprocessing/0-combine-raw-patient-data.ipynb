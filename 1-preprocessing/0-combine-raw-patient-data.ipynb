{
 "cells": [
  {
   "cell_type": "markdown",
   "metadata": {},
   "source": [
    "# Raw ActiGraph and activPAL data\n",
    "\n",
    "The aim of this script is to combine the individual patient data (in time series form) to a single dataset, so that it can be analyzed more easily."
   ]
  },
  {
   "cell_type": "code",
   "execution_count": 1,
   "metadata": {},
   "outputs": [],
   "source": [
    "import pandas as pd\n",
    "import numpy as np\n",
    "import matplotlib.pyplot as plt\n",
    "import seaborn as sns\n",
    "import os\n",
    "\n",
    "SOURCE_DATASET_DIRECTORY = '../0-dataset/0-ra-data/'"
   ]
  },
  {
   "cell_type": "code",
   "execution_count": 2,
   "metadata": {},
   "outputs": [],
   "source": [
    "df_activpal = pd.DataFrame()\n",
    "df_actigraph = pd.DataFrame()\n",
    "\n",
    "activpal_count = 0\n",
    "actigraph_count = 0\n",
    "\n",
    "for directory_name in os.listdir(SOURCE_DATASET_DIRECTORY):\n",
    "    if directory_name.endswith('.xlsx'):\n",
    "        continue\n",
    "    else:\n",
    "        for subdirectory_name in os.listdir(SOURCE_DATASET_DIRECTORY + directory_name):\n",
    "            for subdirectory_content in os.listdir(SOURCE_DATASET_DIRECTORY + directory_name + '/' + subdirectory_name):\n",
    "                if subdirectory_content.endswith('.csv'):\n",
    "                    if directory_name.endswith('-ap'):\n",
    "                        if not subdirectory_content.endswith('Events.csv'):\n",
    "                            continue\n",
    "                        skipped_rows = 0\n",
    "                    else:\n",
    "                        skipped_rows = 10\n",
    "                    \n",
    "                    df = pd.read_csv(\n",
    "                        SOURCE_DATASET_DIRECTORY + directory_name + '/' + subdirectory_name + '/' + subdirectory_content,\n",
    "                        skiprows = skipped_rows\n",
    "                    )\n",
    "                    df['directory_name'] = directory_name\n",
    "                    df['subdirectory_name'] = subdirectory_name\n",
    "                    \n",
    "                    if directory_name.endswith('-ap'):\n",
    "                        df_activpal = pd.concat([df_activpal, df])\n",
    "                        activpal_count += 1\n",
    "                    else:\n",
    "                        df_actigraph = pd.concat([df_actigraph, df])\n",
    "                        actigraph_count += 1"
   ]
  },
  {
   "cell_type": "code",
   "execution_count": 3,
   "metadata": {},
   "outputs": [],
   "source": [
    "import re\n",
    "\n",
    "def get_patient_id(subdirectory_name):\n",
    "    \"\"\"\n",
    "    Extract patient_id based on the directory name.\n",
    "    \"\"\"\n",
    "    patient_id = re.sub('[()]','', subdirectory_name)\n",
    "    for removed_string in ['wk28','28wk','wk2','BTOS','AG']:\n",
    "        patient_id = patient_id.replace(removed_string,'')\n",
    "        \n",
    "    patient_id = patient_id.split('_')[0].strip()[2:]\n",
    "    \n",
    "    return int(patient_id)"
   ]
  },
  {
   "cell_type": "code",
   "execution_count": 4,
   "metadata": {},
   "outputs": [],
   "source": [
    "df_actigraph['patient_id'] = df_actigraph['subdirectory_name'].apply(get_patient_id)\n",
    "df_activpal['patient_id'] = df_activpal['subdirectory_name'].apply(get_patient_id)"
   ]
  },
  {
   "cell_type": "code",
   "execution_count": 5,
   "metadata": {},
   "outputs": [
    {
     "name": "stdout",
     "output_type": "stream",
     "text": [
      "Actigraph data size: 30,120 records with 15 columns.\n",
      "Activpal data size: 80,030 records with 10 columns.\n"
     ]
    }
   ],
   "source": [
    "print(\"Actigraph data size: {:,.0f} records with {:,.0f} columns.\".format(\n",
    "    df_actigraph.shape[0],\n",
    "    df_actigraph.shape[1]\n",
    "))\n",
    "\n",
    "print(\"Activpal data size: {:,.0f} records with {:,.0f} columns.\".format(\n",
    "    df_activpal.shape[0],\n",
    "    df_activpal.shape[1]\n",
    "))"
   ]
  },
  {
   "cell_type": "code",
   "execution_count": 6,
   "metadata": {},
   "outputs": [
    {
     "name": "stdout",
     "output_type": "stream",
     "text": [
      "On average, there are 10,040 +- 69 Actigraph records per patient in each observation period\n"
     ]
    }
   ],
   "source": [
    "obs_actigraph = df_actigraph.groupby([\n",
    "    'patient_id',\n",
    "    'directory_name'\n",
    "]).agg({\n",
    "    'Date': 'count'\n",
    "}).reset_index()\n",
    "\n",
    "print(\"On average, there are {:,.0f} +- {:,.0f} Actigraph records per patient in each observation period\".format(\n",
    "    obs_actigraph['Date'].mean(),\n",
    "    obs_actigraph['Date'].std()\n",
    "))"
   ]
  },
  {
   "cell_type": "code",
   "execution_count": 7,
   "metadata": {},
   "outputs": [
    {
     "name": "stdout",
     "output_type": "stream",
     "text": [
      "On average, there are 26,677 +- 3,945 Activpal records per patient in each observation period\n"
     ]
    }
   ],
   "source": [
    "obs_activpal = df_activpal.groupby([\n",
    "    'patient_id',\n",
    "    'directory_name'\n",
    "]).agg({\n",
    "    'Time': 'count'\n",
    "}).reset_index()\n",
    "\n",
    "print(\"On average, there are {:,.0f} +- {:,.0f} Activpal records per patient in each observation period\".format(\n",
    "    obs_activpal['Time'].mean(),\n",
    "    obs_activpal['Time'].std()\n",
    "))"
   ]
  },
  {
   "cell_type": "code",
   "execution_count": 6,
   "metadata": {},
   "outputs": [],
   "source": [
    "OUTPUT_DIRECTORY = '../0-dataset/1-preprocessed/'\n",
    "\n",
    "\n",
    "df_actigraph.to_csv(\n",
    "    OUTPUT_DIRECTORY + 'actigraph_combined.csv',\n",
    "    index = False\n",
    ")\n",
    "\n",
    "df_activpal.to_csv(\n",
    "    OUTPUT_DIRECTORY + 'activpal_combined.csv',\n",
    "    index = False\n",
    ")"
   ]
  },
  {
   "cell_type": "markdown",
   "metadata": {},
   "source": [
    "# Patient metadata"
   ]
  },
  {
   "cell_type": "code",
   "execution_count": 7,
   "metadata": {},
   "outputs": [],
   "source": [
    "for directory_name in os.listdir(SOURCE_DATASET_DIRECTORY):\n",
    "    if directory_name.endswith('.xlsx'):\n",
    "        df_patient_metadata = pd.read_excel(\n",
    "            SOURCE_DATASET_DIRECTORY + directory_name,\n",
    "            sheet_name = 'Sheet1'\n",
    "        )"
   ]
  },
  {
   "cell_type": "code",
   "execution_count": 8,
   "metadata": {},
   "outputs": [],
   "source": [
    "## only extract relevant columns\n",
    "used_metadata_columns = df_patient_metadata.columns[:19]\n",
    "df_patient_metadata_trimmed = df_patient_metadata[used_metadata_columns].copy()"
   ]
  },
  {
   "cell_type": "code",
   "execution_count": 9,
   "metadata": {},
   "outputs": [],
   "source": [
    "df_patient_metadata_trimmed.columns = [\n",
    "    'patient_id',\n",
    "    'visit',\n",
    "    'gender', ## gender is encoded as 0 (34) or 1 (105), not 1 or 2\n",
    "    'include_activpal_data',\n",
    "    'notes',\n",
    "    'age',\n",
    "    'height',\n",
    "    'weight',\n",
    "    'bmi',\n",
    "    'sf_pf',\n",
    "    'sf_role', \n",
    "    'sf_pain', \n",
    "    'sf_social', \n",
    "    'sf_mental', \n",
    "    'sf_emot', \n",
    "    'sf_vitality',\n",
    "    'sf_gen_health', \n",
    "    'sf36_total', \n",
    "    'haq'\n",
    "]"
   ]
  },
  {
   "cell_type": "code",
   "execution_count": 10,
   "metadata": {},
   "outputs": [],
   "source": [
    "OUTPUT_DIRECTORY = '../0-dataset/1-preprocessed/'\n",
    "\n",
    "df_patient_metadata_trimmed.to_csv(\n",
    "    OUTPUT_DIRECTORY + 'patient_metadata_trimmed.csv',\n",
    "    index = False\n",
    ")"
   ]
  }
 ],
 "metadata": {
  "kernelspec": {
   "display_name": "Python 3",
   "language": "python",
   "name": "python3"
  },
  "language_info": {
   "codemirror_mode": {
    "name": "ipython",
    "version": 3
   },
   "file_extension": ".py",
   "mimetype": "text/x-python",
   "name": "python",
   "nbconvert_exporter": "python",
   "pygments_lexer": "ipython3",
   "version": "3.7.6"
  }
 },
 "nbformat": 4,
 "nbformat_minor": 4
}
