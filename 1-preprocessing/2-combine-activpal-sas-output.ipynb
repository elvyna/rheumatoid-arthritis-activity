{
 "cells": [
  {
   "cell_type": "code",
   "execution_count": 1,
   "metadata": {},
   "outputs": [],
   "source": [
    "import pandas as pd\n",
    "import numpy as np\n",
    "import matplotlib.pyplot as plt\n",
    "import seaborn as sns\n",
    "import os\n",
    "\n",
    "sns.set_context('talk')\n",
    "\n",
    "SAS_FILE_DIRECTORY = '/media/elvyna/DATA/sas/SASUniversityEdition/myfolders/dataset/sas-processed/'"
   ]
  },
  {
   "cell_type": "markdown",
   "metadata": {},
   "source": [
    "# Combine Processed Activpal Data from SAS\n"
   ]
  },
  {
   "cell_type": "code",
   "execution_count": 37,
   "metadata": {},
   "outputs": [],
   "source": [
    "df_activpal = pd.DataFrame()\n",
    "\n",
    "for directory_name in os.listdir(SAS_FILE_DIRECTORY):\n",
    "    for subdirectory_content in os.listdir(SAS_FILE_DIRECTORY + directory_name):\n",
    "        if subdirectory_content.endswith('.csv'):\n",
    "            print(subdirectory_content)\n",
    "            df = pd.read_csv(SAS_FILE_DIRECTORY + directory_name + '/' + subdirectory_content)\n",
    "            df_activpal = pd.concat([df_activpal, df])"
   ]
  },
  {
   "cell_type": "code",
   "execution_count": 19,
   "metadata": {},
   "outputs": [],
   "source": [
    "# df_activpal = df_activpal[(df_activpal['patient_id'].isin([17, 23]))].copy()\n",
    "\n",
    "# df_activpal.loc[\n",
    "#     (df_activpal['patient_id'] == 17),\n",
    "#     'patient_id'\n",
    "# ] = 1\n",
    "\n",
    "# df_activpal.loc[\n",
    "#     (df_activpal['patient_id'] == 23),\n",
    "#     'patient_id'\n",
    "# ] = 2"
   ]
  },
  {
   "cell_type": "code",
   "execution_count": 3,
   "metadata": {},
   "outputs": [],
   "source": [
    "## reference: https://stackoverflow.com/questions/29387137/how-to-convert-a-given-ordinal-number-from-excel-to-a-date\n",
    "from datetime import datetime, timedelta\n",
    "\n",
    "def from_excel_ordinal(ordinal, _epoch0=datetime(1899, 12, 31)):\n",
    "    if ordinal >= 60:\n",
    "        ordinal -= 1  # Excel leap year bug, 1900 is not a leap year!\n",
    "    return (_epoch0 + timedelta(days=ordinal)).replace(microsecond=0)"
   ]
  },
  {
   "cell_type": "code",
   "execution_count": 4,
   "metadata": {},
   "outputs": [],
   "source": [
    "df_activpal['datetime'] = df_activpal['time'].apply(from_excel_ordinal)\n",
    "df_activpal['datetime_hour'] = df_activpal['datetime'].dt.floor('h')\n",
    "df_activpal['hour'] = df_activpal['datetime'].dt.hour\n",
    "\n",
    "df_activpal['date'] = pd.to_datetime(\n",
    "    pd.to_datetime(df_activpal['datetime']).dt.date\n",
    ")\n",
    "df_activpal['date_noon'] = df_activpal['date'] + np.timedelta64(12,'h')\n",
    "\n",
    "df_activpal['visit_info'] = df_activpal['visit_info'].str.lower().str.replace(' ','-')"
   ]
  },
  {
   "cell_type": "code",
   "execution_count": 23,
   "metadata": {},
   "outputs": [
    {
     "data": {
      "text/plain": [
       "(80030, 68)"
      ]
     },
     "execution_count": 23,
     "metadata": {},
     "output_type": "execute_result"
    }
   ],
   "source": [
    "df_activpal.shape"
   ]
  },
  {
   "cell_type": "code",
   "execution_count": 29,
   "metadata": {},
   "outputs": [
    {
     "data": {
      "text/plain": [
       "Index(['time', 'datacount_samples', 'interval_s', 'activity_code',\n",
       "       'cumulativestepcount', 'activity_score_met_h', 'patient_id',\n",
       "       'visit_info', 'boutid', 'sasdatetimenumber', 'steps_n', 'boutidR',\n",
       "       'sasdatetimenumber_endbout', 'interval_s_derived', 'basicdate',\n",
       "       'noondate', 'maxboutdur_nd', 'longestbout', 'sleepbout', 'sitting_s',\n",
       "       'standing_s', 'stepping_s', 'active_s', 'nonstep_s', 'prnonstep2h_s',\n",
       "       'prnonstep30m_s', 'slnum', 'sleepboutall', 'slnumR', 'sleepboutF',\n",
       "       'sleepboutB', 'AW_sitting_t', 'AW_standing_t', 'AW_stepping_t',\n",
       "       'AW_active_t', 'AW_all_t', 'AW_steps_n', 'SL_sitting_t',\n",
       "       'SL_standing_t', 'SL_stepping_t', 'SL_active_t', 'SL_all_t',\n",
       "       'SL_steps_n', 'AW_sitting_t_TOT', 'AW_standing_t_TOT',\n",
       "       'AW_stepping_t_TOT', 'AW_active_t_TOT', 'AW_all_t_TOT',\n",
       "       'SL_sitting_t_TOT', 'SL_standing_t_TOT', 'SL_stepping_t_TOT',\n",
       "       'SL_active_t_TOT', 'SL_all_t_TOT', 'AW_sitting_t_TOTPCT',\n",
       "       'AW_standing_t_TOTPCT', 'AW_stepping_t_TOTPCT', 'AW_active_t_TOTPCT',\n",
       "       'validday', 'datetime', 'datetime_hour', 'hour', 'date', 'date_noon'],\n",
       "      dtype='object')"
      ]
     },
     "execution_count": 29,
     "metadata": {},
     "output_type": "execute_result"
    }
   ],
   "source": [
    "df_activpal.columns"
   ]
  },
  {
   "cell_type": "code",
   "execution_count": 26,
   "metadata": {},
   "outputs": [
    {
     "data": {
      "image/png": "[encoded data removed]",
      "text/plain": [
       "<Figure size 864x288 with 1 Axes>"
      ]
     },
     "metadata": {
      "needs_background": "light"
     },
     "output_type": "display_data"
    }
   ],
   "source": [
    "mask_valid = (df_activpal['validday'] == 1) & (df_activpal['sleepboutall'] != 1)\n",
    "\n",
    "d = df_activpal[mask_valid].groupby([\n",
    "    'patient_id',\n",
    "    'visit_info',\n",
    "    'date',\n",
    "    'hour'\n",
    "]).agg({\n",
    "    'AW_steps_n':'sum',\n",
    "    'SL_steps_n':'sum',\n",
    "    'steps_n':'sum'\n",
    "}).reset_index()\n",
    "\n",
    "f, ax = plt.subplots(figsize=(12,4))\n",
    "sns.boxplot(\n",
    "    data=d,\n",
    "    x='hour',\n",
    "    y='steps_n',\n",
    "    hue='visit_info',\n",
    "    palette='viridis'\n",
    ");\n",
    "sns.despine();"
   ]
  },
  {
   "cell_type": "markdown",
   "metadata": {},
   "source": [
    "# Merge with patient metadata"
   ]
  },
  {
   "cell_type": "code",
   "execution_count": 8,
   "metadata": {},
   "outputs": [],
   "source": [
    "df_patient_metadata = pd.read_csv('../0-dataset/1-preprocessed/patient_metadata_trimmed.csv')\n",
    "df_patient_metadata['visit_info'] = np.where(\n",
    "    (df_patient_metadata['visit'] == 1),\n",
    "    'baseline',\n",
    "    'follow-up'\n",
    ")"
   ]
  },
  {
   "cell_type": "code",
   "execution_count": 9,
   "metadata": {},
   "outputs": [],
   "source": [
    "conditions = [\n",
    "    (df_patient_metadata['gender'] == 1),\n",
    "    (df_patient_metadata['gender'] == 0)\n",
    "]\n",
    "\n",
    "choices = [\n",
    "    'female',\n",
    "    'male'\n",
    "]\n",
    "\n",
    "df_patient_metadata['gender_string'] = np.select(\n",
    "    conditions,\n",
    "    choices,\n",
    "    default = None\n",
    ")"
   ]
  },
  {
   "cell_type": "code",
   "execution_count": 31,
   "metadata": {},
   "outputs": [],
   "source": [
    "## combine with main metadata of the patient\n",
    "meta = df_patient_metadata.loc[\n",
    "    (df_patient_metadata['visit'].notnull()),\n",
    "    [\n",
    "        'patient_id','visit_info','include_activpal_data','gender_string','age','height','weight','bmi',\n",
    "        'sf_pf', 'sf_role', 'sf_pain','sf_social', 'sf_mental', 'sf_emot', 'sf_vitality', \n",
    "        'sf_gen_health','sf36_total', 'haq','ntx','oc'\n",
    "    ]\n",
    "].copy().rename(\n",
    "    columns = {\n",
    "        'gender_string': 'gender',\n",
    "        'sf_pf': 'sf_physical_functioning',\n",
    "        'sf_role': 'sf_role_physical',\n",
    "        'sf_pain': 'sf_bodily_pain',\n",
    "        'sf_social': 'sf_social_functioning',\n",
    "        'sf_mental': 'sf_mental_health',\n",
    "        'sf_emot': 'sf_role_emotional',\n",
    "        'sf_gen_health': 'sf_general_health'\n",
    "    }\n",
    ")\n",
    "\n",
    "df_activpal = df_activpal.merge(\n",
    "    meta,\n",
    "    how = 'left',\n",
    "    left_on = ['patient_id','visit_info'],\n",
    "    right_on = ['patient_id','visit_info']\n",
    ")"
   ]
  },
  {
   "cell_type": "code",
   "execution_count": 36,
   "metadata": {},
   "outputs": [],
   "source": [
    "# df_activpal.to_csv('../0-dataset/1-preprocessed/activpal_combined_slnw_with_metadata.csv', index=False)"
   ]
  }
 ],
 "metadata": {
  "kernelspec": {
   "display_name": "Python 3",
   "language": "python",
   "name": "python3"
  },
  "language_info": {
   "codemirror_mode": {
    "name": "ipython",
    "version": 3
   },
   "file_extension": ".py",
   "mimetype": "text/x-python",
   "name": "python",
   "nbconvert_exporter": "python",
   "pygments_lexer": "ipython3",
   "version": "3.7.6"
  }
 },
 "nbformat": 4,
 "nbformat_minor": 4
}
